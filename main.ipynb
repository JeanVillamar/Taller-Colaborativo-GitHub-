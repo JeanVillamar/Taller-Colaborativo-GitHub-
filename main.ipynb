{
 "cells": [
  {
   "cell_type": "code",
   "execution_count": 15,
   "id": "45c946b4",
   "metadata": {},
   "outputs": [
    {
     "name": "stdout",
     "output_type": "stream",
     "text": [
      "Hola mundo\n"
     ]
    }
   ],
   "source": [
    "print(\"Hola mundo\")"
   ]
  },
  {
   "cell_type": "markdown",
   "id": "4eb8a27f",
   "metadata": {},
   "source": [
    "**Tarea 3: Preprocesamiento**"
   ]
  },
  {
   "cell_type": "code",
   "execution_count": 16,
   "id": "a85626ac",
   "metadata": {},
   "outputs": [],
   "source": [
    "import pandas as pd\n",
    "import matplotlib.pyplot as plt\n"
   ]
  },
  {
   "cell_type": "code",
   "execution_count": 17,
   "id": "571dc698",
   "metadata": {},
   "outputs": [
    {
     "data": {
      "application/vnd.microsoft.datawrangler.viewer.v0+json": {
       "columns": [
        {
         "name": "index",
         "rawType": "int64",
         "type": "integer"
        },
        {
         "name": "nb_cilindros",
         "rawType": "int64",
         "type": "integer"
        },
        {
         "name": "desplazamiento",
         "rawType": "float64",
         "type": "float"
        },
        {
         "name": "potencia",
         "rawType": "object",
         "type": "string"
        },
        {
         "name": "peso",
         "rawType": "float64",
         "type": "float"
        },
        {
         "name": "aceleracion",
         "rawType": "float64",
         "type": "float"
        },
        {
         "name": "anio",
         "rawType": "int64",
         "type": "integer"
        },
        {
         "name": "modelo",
         "rawType": "object",
         "type": "string"
        },
        {
         "name": "mpg",
         "rawType": "float64",
         "type": "float"
        }
       ],
       "ref": "a114775c-2e9b-4d64-bb50-4d0900a397f2",
       "rows": [
        [
         "0",
         "8",
         "307.0",
         "130.0",
         "3504.0",
         "12.0",
         "70",
         "\"chevrolet chevelle malibu\"",
         "18.0"
        ],
        [
         "1",
         "8",
         "350.0",
         "165.0",
         "3693.0",
         "11.5",
         "70",
         "\"buick skylark 320\"",
         "15.0"
        ],
        [
         "2",
         "8",
         "318.0",
         "150.0",
         "3436.0",
         "11.0",
         "70",
         "\"plymouth satellite\"",
         "18.0"
        ],
        [
         "3",
         "8",
         "304.0",
         "150.0",
         "3433.0",
         "12.0",
         "70",
         "\"amc rebel sst\"",
         "16.0"
        ],
        [
         "4",
         "8",
         "302.0",
         "140.0",
         "3449.0",
         "10.5",
         "70",
         "\"ford torino\"",
         "17.0"
        ]
       ],
       "shape": {
        "columns": 8,
        "rows": 5
       }
      },
      "text/html": [
       "<div>\n",
       "<style scoped>\n",
       "    .dataframe tbody tr th:only-of-type {\n",
       "        vertical-align: middle;\n",
       "    }\n",
       "\n",
       "    .dataframe tbody tr th {\n",
       "        vertical-align: top;\n",
       "    }\n",
       "\n",
       "    .dataframe thead th {\n",
       "        text-align: right;\n",
       "    }\n",
       "</style>\n",
       "<table border=\"1\" class=\"dataframe\">\n",
       "  <thead>\n",
       "    <tr style=\"text-align: right;\">\n",
       "      <th></th>\n",
       "      <th>nb_cilindros</th>\n",
       "      <th>desplazamiento</th>\n",
       "      <th>potencia</th>\n",
       "      <th>peso</th>\n",
       "      <th>aceleracion</th>\n",
       "      <th>anio</th>\n",
       "      <th>modelo</th>\n",
       "      <th>mpg</th>\n",
       "    </tr>\n",
       "  </thead>\n",
       "  <tbody>\n",
       "    <tr>\n",
       "      <th>0</th>\n",
       "      <td>8</td>\n",
       "      <td>307.0</td>\n",
       "      <td>130.0</td>\n",
       "      <td>3504.0</td>\n",
       "      <td>12.0</td>\n",
       "      <td>70</td>\n",
       "      <td>\"chevrolet chevelle malibu\"</td>\n",
       "      <td>18.0</td>\n",
       "    </tr>\n",
       "    <tr>\n",
       "      <th>1</th>\n",
       "      <td>8</td>\n",
       "      <td>350.0</td>\n",
       "      <td>165.0</td>\n",
       "      <td>3693.0</td>\n",
       "      <td>11.5</td>\n",
       "      <td>70</td>\n",
       "      <td>\"buick skylark 320\"</td>\n",
       "      <td>15.0</td>\n",
       "    </tr>\n",
       "    <tr>\n",
       "      <th>2</th>\n",
       "      <td>8</td>\n",
       "      <td>318.0</td>\n",
       "      <td>150.0</td>\n",
       "      <td>3436.0</td>\n",
       "      <td>11.0</td>\n",
       "      <td>70</td>\n",
       "      <td>\"plymouth satellite\"</td>\n",
       "      <td>18.0</td>\n",
       "    </tr>\n",
       "    <tr>\n",
       "      <th>3</th>\n",
       "      <td>8</td>\n",
       "      <td>304.0</td>\n",
       "      <td>150.0</td>\n",
       "      <td>3433.0</td>\n",
       "      <td>12.0</td>\n",
       "      <td>70</td>\n",
       "      <td>\"amc rebel sst\"</td>\n",
       "      <td>16.0</td>\n",
       "    </tr>\n",
       "    <tr>\n",
       "      <th>4</th>\n",
       "      <td>8</td>\n",
       "      <td>302.0</td>\n",
       "      <td>140.0</td>\n",
       "      <td>3449.0</td>\n",
       "      <td>10.5</td>\n",
       "      <td>70</td>\n",
       "      <td>\"ford torino\"</td>\n",
       "      <td>17.0</td>\n",
       "    </tr>\n",
       "  </tbody>\n",
       "</table>\n",
       "</div>"
      ],
      "text/plain": [
       "   nb_cilindros  desplazamiento potencia    peso  aceleracion  anio  \\\n",
       "0             8           307.0    130.0  3504.0         12.0    70   \n",
       "1             8           350.0    165.0  3693.0         11.5    70   \n",
       "2             8           318.0    150.0  3436.0         11.0    70   \n",
       "3             8           304.0    150.0  3433.0         12.0    70   \n",
       "4             8           302.0    140.0  3449.0         10.5    70   \n",
       "\n",
       "                        modelo   mpg  \n",
       "0  \"chevrolet chevelle malibu\"  18.0  \n",
       "1          \"buick skylark 320\"  15.0  \n",
       "2         \"plymouth satellite\"  18.0  \n",
       "3              \"amc rebel sst\"  16.0  \n",
       "4                \"ford torino\"  17.0  "
      ]
     },
     "execution_count": 17,
     "metadata": {},
     "output_type": "execute_result"
    }
   ],
   "source": [
    "df = pd.read_csv('millas_por_galon.csv')\n",
    "df.head()"
   ]
  },
  {
   "cell_type": "code",
   "execution_count": 18,
   "id": "395ed18d",
   "metadata": {},
   "outputs": [
    {
     "name": "stdout",
     "output_type": "stream",
     "text": [
      "3184\n"
     ]
    }
   ],
   "source": [
    "print(df.size)"
   ]
  },
  {
   "cell_type": "code",
   "execution_count": 19,
   "id": "5e2c6543",
   "metadata": {},
   "outputs": [
    {
     "name": "stdout",
     "output_type": "stream",
     "text": [
      "3184\n"
     ]
    }
   ],
   "source": [
    "df4 = df.dropna()\n",
    "print(df4.size)"
   ]
  },
  {
   "cell_type": "code",
   "execution_count": 20,
   "id": "36267a94",
   "metadata": {},
   "outputs": [],
   "source": [
    "# columnas numericas\n",
    "numeric_cols = ['nb_cilindros', 'desplazamiento', 'peso', 'aceleracion', 'anio', 'mpg']"
   ]
  },
  {
   "cell_type": "code",
   "execution_count": 21,
   "id": "f7ad03b4",
   "metadata": {},
   "outputs": [
    {
     "data": {
      "application/vnd.microsoft.datawrangler.viewer.v0+json": {
       "columns": [
        {
         "name": "index",
         "rawType": "int64",
         "type": "integer"
        },
        {
         "name": "nb_cilindros",
         "rawType": "int64",
         "type": "integer"
        },
        {
         "name": "desplazamiento",
         "rawType": "float64",
         "type": "float"
        },
        {
         "name": "peso",
         "rawType": "float64",
         "type": "float"
        },
        {
         "name": "aceleracion",
         "rawType": "float64",
         "type": "float"
        },
        {
         "name": "anio",
         "rawType": "int64",
         "type": "integer"
        },
        {
         "name": "mpg",
         "rawType": "float64",
         "type": "float"
        }
       ],
       "ref": "5ece43e9-9c92-4a23-b4f4-1c84732b078e",
       "rows": [
        [
         "0",
         "8",
         "307.0",
         "3504.0",
         "12.0",
         "70",
         "18.0"
        ],
        [
         "1",
         "8",
         "350.0",
         "3693.0",
         "11.5",
         "70",
         "15.0"
        ],
        [
         "2",
         "8",
         "318.0",
         "3436.0",
         "11.0",
         "70",
         "18.0"
        ],
        [
         "3",
         "8",
         "304.0",
         "3433.0",
         "12.0",
         "70",
         "16.0"
        ],
        [
         "4",
         "8",
         "302.0",
         "3449.0",
         "10.5",
         "70",
         "17.0"
        ]
       ],
       "shape": {
        "columns": 6,
        "rows": 5
       }
      },
      "text/html": [
       "<div>\n",
       "<style scoped>\n",
       "    .dataframe tbody tr th:only-of-type {\n",
       "        vertical-align: middle;\n",
       "    }\n",
       "\n",
       "    .dataframe tbody tr th {\n",
       "        vertical-align: top;\n",
       "    }\n",
       "\n",
       "    .dataframe thead th {\n",
       "        text-align: right;\n",
       "    }\n",
       "</style>\n",
       "<table border=\"1\" class=\"dataframe\">\n",
       "  <thead>\n",
       "    <tr style=\"text-align: right;\">\n",
       "      <th></th>\n",
       "      <th>nb_cilindros</th>\n",
       "      <th>desplazamiento</th>\n",
       "      <th>peso</th>\n",
       "      <th>aceleracion</th>\n",
       "      <th>anio</th>\n",
       "      <th>mpg</th>\n",
       "    </tr>\n",
       "  </thead>\n",
       "  <tbody>\n",
       "    <tr>\n",
       "      <th>0</th>\n",
       "      <td>8</td>\n",
       "      <td>307.0</td>\n",
       "      <td>3504.0</td>\n",
       "      <td>12.0</td>\n",
       "      <td>70</td>\n",
       "      <td>18.0</td>\n",
       "    </tr>\n",
       "    <tr>\n",
       "      <th>1</th>\n",
       "      <td>8</td>\n",
       "      <td>350.0</td>\n",
       "      <td>3693.0</td>\n",
       "      <td>11.5</td>\n",
       "      <td>70</td>\n",
       "      <td>15.0</td>\n",
       "    </tr>\n",
       "    <tr>\n",
       "      <th>2</th>\n",
       "      <td>8</td>\n",
       "      <td>318.0</td>\n",
       "      <td>3436.0</td>\n",
       "      <td>11.0</td>\n",
       "      <td>70</td>\n",
       "      <td>18.0</td>\n",
       "    </tr>\n",
       "    <tr>\n",
       "      <th>3</th>\n",
       "      <td>8</td>\n",
       "      <td>304.0</td>\n",
       "      <td>3433.0</td>\n",
       "      <td>12.0</td>\n",
       "      <td>70</td>\n",
       "      <td>16.0</td>\n",
       "    </tr>\n",
       "    <tr>\n",
       "      <th>4</th>\n",
       "      <td>8</td>\n",
       "      <td>302.0</td>\n",
       "      <td>3449.0</td>\n",
       "      <td>10.5</td>\n",
       "      <td>70</td>\n",
       "      <td>17.0</td>\n",
       "    </tr>\n",
       "  </tbody>\n",
       "</table>\n",
       "</div>"
      ],
      "text/plain": [
       "   nb_cilindros  desplazamiento    peso  aceleracion  anio   mpg\n",
       "0             8           307.0  3504.0         12.0    70  18.0\n",
       "1             8           350.0  3693.0         11.5    70  15.0\n",
       "2             8           318.0  3436.0         11.0    70  18.0\n",
       "3             8           304.0  3433.0         12.0    70  16.0\n",
       "4             8           302.0  3449.0         10.5    70  17.0"
      ]
     },
     "execution_count": 21,
     "metadata": {},
     "output_type": "execute_result"
    }
   ],
   "source": [
    "data = df[numeric_cols]\n",
    "data.head(5)"
   ]
  },
  {
   "cell_type": "code",
   "execution_count": 22,
   "id": "0014390b",
   "metadata": {},
   "outputs": [
    {
     "name": "stdout",
     "output_type": "stream",
     "text": [
      "<class 'pandas.core.frame.DataFrame'>\n",
      "RangeIndex: 398 entries, 0 to 397\n",
      "Data columns (total 6 columns):\n",
      " #   Column          Non-Null Count  Dtype  \n",
      "---  ------          --------------  -----  \n",
      " 0   nb_cilindros    398 non-null    int64  \n",
      " 1   desplazamiento  398 non-null    float64\n",
      " 2   peso            398 non-null    float64\n",
      " 3   aceleracion     398 non-null    float64\n",
      " 4   anio            398 non-null    int64  \n",
      " 5   mpg             398 non-null    float64\n",
      "dtypes: float64(4), int64(2)\n",
      "memory usage: 18.8 KB\n"
     ]
    },
    {
     "data": {
      "application/vnd.microsoft.datawrangler.viewer.v0+json": {
       "columns": [
        {
         "name": "index",
         "rawType": "object",
         "type": "string"
        },
        {
         "name": "nb_cilindros",
         "rawType": "float64",
         "type": "float"
        },
        {
         "name": "desplazamiento",
         "rawType": "float64",
         "type": "float"
        },
        {
         "name": "peso",
         "rawType": "float64",
         "type": "float"
        },
        {
         "name": "aceleracion",
         "rawType": "float64",
         "type": "float"
        },
        {
         "name": "anio",
         "rawType": "float64",
         "type": "float"
        },
        {
         "name": "mpg",
         "rawType": "float64",
         "type": "float"
        }
       ],
       "ref": "aea936c9-e9f1-43b1-aa7d-80e51ab5ed9d",
       "rows": [
        [
         "count",
         "398.0",
         "398.0",
         "398.0",
         "398.0",
         "398.0",
         "398.0"
        ],
        [
         "mean",
         "5.454773869346734",
         "193.42587939698493",
         "2970.424623115578",
         "15.568090452261307",
         "76.01005025125629",
         "23.514572864321607"
        ],
        [
         "std",
         "1.7010042445332094",
         "104.26983817119581",
         "846.8417741973271",
         "2.7576889298126757",
         "3.697626646732623",
         "7.815984312565782"
        ],
        [
         "min",
         "3.0",
         "68.0",
         "1613.0",
         "8.0",
         "70.0",
         "9.0"
        ],
        [
         "5%",
         "4.0",
         "85.0",
         "1923.5",
         "11.285",
         "70.0",
         "13.0"
        ],
        [
         "25%",
         "4.0",
         "104.25",
         "2223.75",
         "13.825000000000001",
         "73.0",
         "17.5"
        ],
        [
         "50%",
         "4.0",
         "148.5",
         "2803.5",
         "15.5",
         "76.0",
         "23.0"
        ],
        [
         "75%",
         "8.0",
         "262.0",
         "3608.0",
         "17.175",
         "79.0",
         "29.0"
        ],
        [
         "95%",
         "8.0",
         "400.0",
         "4464.0",
         "20.414999999999996",
         "82.0",
         "37.029999999999994"
        ],
        [
         "max",
         "8.0",
         "455.0",
         "5140.0",
         "24.8",
         "82.0",
         "46.6"
        ]
       ],
       "shape": {
        "columns": 6,
        "rows": 10
       }
      },
      "text/html": [
       "<div>\n",
       "<style scoped>\n",
       "    .dataframe tbody tr th:only-of-type {\n",
       "        vertical-align: middle;\n",
       "    }\n",
       "\n",
       "    .dataframe tbody tr th {\n",
       "        vertical-align: top;\n",
       "    }\n",
       "\n",
       "    .dataframe thead th {\n",
       "        text-align: right;\n",
       "    }\n",
       "</style>\n",
       "<table border=\"1\" class=\"dataframe\">\n",
       "  <thead>\n",
       "    <tr style=\"text-align: right;\">\n",
       "      <th></th>\n",
       "      <th>nb_cilindros</th>\n",
       "      <th>desplazamiento</th>\n",
       "      <th>peso</th>\n",
       "      <th>aceleracion</th>\n",
       "      <th>anio</th>\n",
       "      <th>mpg</th>\n",
       "    </tr>\n",
       "  </thead>\n",
       "  <tbody>\n",
       "    <tr>\n",
       "      <th>count</th>\n",
       "      <td>398.000000</td>\n",
       "      <td>398.000000</td>\n",
       "      <td>398.000000</td>\n",
       "      <td>398.000000</td>\n",
       "      <td>398.000000</td>\n",
       "      <td>398.000000</td>\n",
       "    </tr>\n",
       "    <tr>\n",
       "      <th>mean</th>\n",
       "      <td>5.454774</td>\n",
       "      <td>193.425879</td>\n",
       "      <td>2970.424623</td>\n",
       "      <td>15.568090</td>\n",
       "      <td>76.010050</td>\n",
       "      <td>23.514573</td>\n",
       "    </tr>\n",
       "    <tr>\n",
       "      <th>std</th>\n",
       "      <td>1.701004</td>\n",
       "      <td>104.269838</td>\n",
       "      <td>846.841774</td>\n",
       "      <td>2.757689</td>\n",
       "      <td>3.697627</td>\n",
       "      <td>7.815984</td>\n",
       "    </tr>\n",
       "    <tr>\n",
       "      <th>min</th>\n",
       "      <td>3.000000</td>\n",
       "      <td>68.000000</td>\n",
       "      <td>1613.000000</td>\n",
       "      <td>8.000000</td>\n",
       "      <td>70.000000</td>\n",
       "      <td>9.000000</td>\n",
       "    </tr>\n",
       "    <tr>\n",
       "      <th>5%</th>\n",
       "      <td>4.000000</td>\n",
       "      <td>85.000000</td>\n",
       "      <td>1923.500000</td>\n",
       "      <td>11.285000</td>\n",
       "      <td>70.000000</td>\n",
       "      <td>13.000000</td>\n",
       "    </tr>\n",
       "    <tr>\n",
       "      <th>25%</th>\n",
       "      <td>4.000000</td>\n",
       "      <td>104.250000</td>\n",
       "      <td>2223.750000</td>\n",
       "      <td>13.825000</td>\n",
       "      <td>73.000000</td>\n",
       "      <td>17.500000</td>\n",
       "    </tr>\n",
       "    <tr>\n",
       "      <th>50%</th>\n",
       "      <td>4.000000</td>\n",
       "      <td>148.500000</td>\n",
       "      <td>2803.500000</td>\n",
       "      <td>15.500000</td>\n",
       "      <td>76.000000</td>\n",
       "      <td>23.000000</td>\n",
       "    </tr>\n",
       "    <tr>\n",
       "      <th>75%</th>\n",
       "      <td>8.000000</td>\n",
       "      <td>262.000000</td>\n",
       "      <td>3608.000000</td>\n",
       "      <td>17.175000</td>\n",
       "      <td>79.000000</td>\n",
       "      <td>29.000000</td>\n",
       "    </tr>\n",
       "    <tr>\n",
       "      <th>95%</th>\n",
       "      <td>8.000000</td>\n",
       "      <td>400.000000</td>\n",
       "      <td>4464.000000</td>\n",
       "      <td>20.415000</td>\n",
       "      <td>82.000000</td>\n",
       "      <td>37.030000</td>\n",
       "    </tr>\n",
       "    <tr>\n",
       "      <th>max</th>\n",
       "      <td>8.000000</td>\n",
       "      <td>455.000000</td>\n",
       "      <td>5140.000000</td>\n",
       "      <td>24.800000</td>\n",
       "      <td>82.000000</td>\n",
       "      <td>46.600000</td>\n",
       "    </tr>\n",
       "  </tbody>\n",
       "</table>\n",
       "</div>"
      ],
      "text/plain": [
       "       nb_cilindros  desplazamiento         peso  aceleracion        anio  \\\n",
       "count    398.000000      398.000000   398.000000   398.000000  398.000000   \n",
       "mean       5.454774      193.425879  2970.424623    15.568090   76.010050   \n",
       "std        1.701004      104.269838   846.841774     2.757689    3.697627   \n",
       "min        3.000000       68.000000  1613.000000     8.000000   70.000000   \n",
       "5%         4.000000       85.000000  1923.500000    11.285000   70.000000   \n",
       "25%        4.000000      104.250000  2223.750000    13.825000   73.000000   \n",
       "50%        4.000000      148.500000  2803.500000    15.500000   76.000000   \n",
       "75%        8.000000      262.000000  3608.000000    17.175000   79.000000   \n",
       "95%        8.000000      400.000000  4464.000000    20.415000   82.000000   \n",
       "max        8.000000      455.000000  5140.000000    24.800000   82.000000   \n",
       "\n",
       "              mpg  \n",
       "count  398.000000  \n",
       "mean    23.514573  \n",
       "std      7.815984  \n",
       "min      9.000000  \n",
       "5%      13.000000  \n",
       "25%     17.500000  \n",
       "50%     23.000000  \n",
       "75%     29.000000  \n",
       "95%     37.030000  \n",
       "max     46.600000  "
      ]
     },
     "metadata": {},
     "output_type": "display_data"
    }
   ],
   "source": [
    "data.info()\n",
    "display(data.describe(percentiles=[0.05, 0.25, 0.5, 0.75, 0.95]))"
   ]
  },
  {
   "cell_type": "markdown",
   "id": "4b03ffcc",
   "metadata": {},
   "source": [
    "# Visualizaciones"
   ]
  },
  {
   "cell_type": "code",
   "execution_count": 23,
   "id": "85ba2c37",
   "metadata": {},
   "outputs": [
    {
     "data": {
      "image/png": "[encoded data removed]",
      "text/plain": [
       "<Figure size 1000x600 with 1 Axes>"
      ]
     },
     "metadata": {},
     "output_type": "display_data"
    },
    {
     "data": {
      "image/png": "[encoded data removed]",
      "text/plain": [
       "<Figure size 1000x600 with 1 Axes>"
      ]
     },
     "metadata": {},
     "output_type": "display_data"
    },
    {
     "data": {
      "text/plain": [
       "<Figure size 1000x600 with 0 Axes>"
      ]
     },
     "metadata": {},
     "output_type": "display_data"
    },
    {
     "data": {
      "image/png": "[encoded data removed]",
      "text/plain": [
       "<Figure size 640x480 with 1 Axes>"
      ]
     },
     "metadata": {},
     "output_type": "display_data"
    }
   ],
   "source": [
    "plt.figure(figsize=(10,6))\n",
    "plt.scatter(df['peso'], df['mpg'], alpha=0.6)\n",
    "plt.xlabel('Peso del vehículo')\n",
    "plt.ylabel('Millas por galón (mpg)')\n",
    "plt.title('Relación entre peso y consumo')\n",
    "plt.show()\n",
    "\n",
    "plt.figure(figsize=(10,6))\n",
    "plt.hist(df['mpg'].dropna(), bins=20)\n",
    "plt.xlabel('mpg')\n",
    "plt.ylabel('Frecuencia')\n",
    "plt.title('Distribución de mpg')\n",
    "plt.show()\n",
    "\n",
    "plt.figure(figsize=(10,6))\n",
    "df[['nb_cilindros','mpg']].dropna().boxplot(by='nb_cilindros', column='mpg', grid=False)\n",
    "plt.suptitle('')\n",
    "plt.title('mpg por número de cilindros')\n",
    "plt.xlabel('nb_cilindros')\n",
    "plt.ylabel('mpg')\n",
    "plt.show()\n"
   ]
  }
 ],
 "metadata": {
  "kernelspec": {
   "display_name": ".venv",
   "language": "python",
   "name": "python3"
  },
  "language_info": {
   "codemirror_mode": {
    "name": "ipython",
    "version": 3
   },
   "file_extension": ".py",
   "mimetype": "text/x-python",
   "name": "python",
   "nbconvert_exporter": "python",
   "pygments_lexer": "ipython3",
   "version": "3.13.4"
  }
 },
 "nbformat": 4,
 "nbformat_minor": 5
}
